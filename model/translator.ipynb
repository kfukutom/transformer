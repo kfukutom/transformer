{
 "cells": [
  {
   "cell_type": "code",
   "execution_count": 1,
   "metadata": {},
   "outputs": [],
   "source": [
    "#from transformer import Transformer\n",
    "import torch\n",
    "import numpy as np\n",
    "import math"
   ]
  },
  {
   "cell_type": "code",
   "execution_count": 2,
   "metadata": {},
   "outputs": [
    {
     "name": "stdout",
     "output_type": "stream",
     "text": [
      "Training model on preprocessed data:\n",
      "[[-1.22474487  0.26726124  0.        ]\n",
      " [ 1.22474487 -1.33630621 -1.22474487]\n",
      " [ 0.          1.06904497  1.22474487]]\n"
     ]
    }
   ],
   "source": [
    "import numpy as np\n",
    "\n",
    "def preprocess_data(func):\n",
    "    \"\"\"\n",
    "    A decorator for preprocessing data. It normalizes and scales the input data.\n",
    "    \"\"\"\n",
    "    def wrapper(data):\n",
    "        # Convert data to a numpy array for ease of manipulation\n",
    "        data_array = np.array(data)\n",
    "        \n",
    "        # Normalize data to have mean = 0\n",
    "        normalized_data = data_array - np.mean(data_array, axis=0)\n",
    "        \n",
    "        # Scale data to have std deviation = 1\n",
    "        scaled_data = normalized_data / np.std(normalized_data, axis=0)\n",
    "        \n",
    "        # Call the original function with the preprocessed data\n",
    "        return func(scaled_data)\n",
    "    \n",
    "    return wrapper\n",
    "\n",
    "@preprocess_data\n",
    "def train_model(data):\n",
    "    \"\"\"\n",
    "    Simulate model training on preprocessed data.\n",
    "    \"\"\"\n",
    "    print(\"Training model on preprocessed data:\")\n",
    "    print(data)\n",
    "\n",
    "# Example data - list of lists (each inner list could represent a data point)\n",
    "data = [\n",
    "    [10, 200, 3000],\n",
    "    [20, 180, 2900],\n",
    "    [15, 210, 3100],\n",
    "]\n",
    "\n",
    "train_model(data)\n"
   ]
  },
  {
   "cell_type": "code",
   "execution_count": 3,
   "metadata": {},
   "outputs": [
    {
     "name": "stdout",
     "output_type": "stream",
     "text": [
      "Q\n",
      " [[ 3.49091629e-04 -2.36564313e-01  3.93158170e-02  4.83598993e-01\n",
      "  -2.29602947e-01 -7.35765196e-01  1.07824883e+00  5.66690295e-01]\n",
      " [ 1.23051533e+00 -4.33139369e-01  1.18632675e-01 -6.35105072e-01\n",
      "   7.27291883e-01  6.83922365e-01  1.04503623e+00 -4.42515101e-01]\n",
      " [ 4.92282258e-01  2.87076127e-02  1.67373830e+00  3.22394141e-01\n",
      "  -3.24316367e-01 -1.02331742e+00  3.93354903e-01 -3.58839411e-01]\n",
      " [ 4.26648044e-02 -1.41740165e+00  1.44892517e+00  9.75861054e-01\n",
      "  -1.70714505e+00  3.56247539e-01 -1.43150950e-01 -5.42089755e-01]]\n",
      "K\n",
      " [[ 0.81576652  0.13905938 -0.04025353  1.2167816   0.61761556  0.34638913\n",
      "   0.20713831  0.63918787]\n",
      " [-1.28025409 -1.94942609  0.69737744  1.21971493 -0.24545391 -0.81391399\n",
      "  -1.0323937   1.31551563]\n",
      " [-0.25614235 -0.26647644 -0.11443513  0.51109189 -0.63809394 -0.20404782\n",
      "   0.43742648  0.64823154]\n",
      " [ 0.53449474  1.55257826  1.20347173  0.19976405  0.31349574 -1.20578455\n",
      "   1.2722732   0.18830745]]\n",
      "V\n",
      " [[ 0.96138538  0.22132426 -0.23674417  0.29412005  0.49256353 -0.6933207\n",
      "  -1.83949971  0.58269026]\n",
      " [ 0.46387754  0.55195751  0.39193237 -0.50763452 -0.80990531  0.44745248\n",
      "   0.81561098 -0.76182857]\n",
      " [ 1.06759503  0.82331972 -0.05142112  0.29376034  0.50508403 -1.57696986\n",
      "   1.47153952  1.18812361]\n",
      " [-1.20318194  1.57014292 -0.70935905  0.42224968  1.68504329 -0.70751418\n",
      "  -1.66388645 -1.43897699]]\n"
     ]
    }
   ],
   "source": [
    "L, d_k, d_v = 4, 8, 8\n",
    "q = np.random.randn(L, d_k)\n",
    "k = np.random.randn(L, d_k)\n",
    "v = np.random.randn(L, d_v)\n",
    "\n",
    "print(\"Q\\n\", q) # queue\n",
    "print(\"K\\n\", k) # key\n",
    "print(\"V\\n\", v) # value"
   ]
  },
  {
   "cell_type": "code",
   "execution_count": 4,
   "metadata": {},
   "outputs": [
    {
     "data": {
      "text/plain": [
       "array([[ 0.74314083,  1.36550776,  1.44125445,  2.070557  ],\n",
       "       [ 0.78572838, -3.81910946, -0.97129758,  0.6507037 ],\n",
       "       [ 0.02783304,  0.90858764,  0.19469716,  3.95150388],\n",
       "       [-0.34032137,  4.47294916,  1.3023323 , -1.48808756]])"
      ]
     },
     "execution_count": 4,
     "metadata": {},
     "output_type": "execute_result"
    }
   ],
   "source": [
    "# self attention matrix will have every word look at every other word in the sentence\n",
    "# 4 cross 4 matrix for example \"My name is Ken\" len(4)\n",
    "np.matmul(q, k.T)"
   ]
  },
  {
   "cell_type": "code",
   "execution_count": 5,
   "metadata": {},
   "outputs": [
    {
     "data": {
      "text/plain": [
       "(0.6061670609807732, 0.6805783024159235, 0.4522523984219733)"
      ]
     },
     "execution_count": 5,
     "metadata": {},
     "output_type": "execute_result"
    }
   ],
   "source": [
    "q.var(), k.var(), np.matmul(q, k.T).var()\n",
    "scaled = np.matmul(q, k.T) / math.sqrt(d_k)\n",
    "q.var(), k.var(), scaled.var() #minimize skew"
   ]
  },
  {
   "cell_type": "code",
   "execution_count": 6,
   "metadata": {},
   "outputs": [
    {
     "data": {
      "text/plain": [
       "array([[ 0.26273996,  0.4827799 ,  0.5095604 ,  0.73205245],\n",
       "       [ 0.27779693, -1.3502591 , -0.34340555,  0.2300585 ],\n",
       "       [ 0.00984046,  0.32123424,  0.06883584,  1.3970676 ],\n",
       "       [-0.12032177,  1.58142634,  0.460444  , -0.5261184 ]])"
      ]
     },
     "execution_count": 6,
     "metadata": {},
     "output_type": "execute_result"
    }
   ],
   "source": [
    "scaled"
   ]
  },
  {
   "cell_type": "markdown",
   "metadata": {},
   "source": [
    "## Masking ##\n",
    "- This is to ensure words don't get context from words generated in the future\n",
    "- Not required in the encoders, but required in the decoders"
   ]
  },
  {
   "cell_type": "code",
   "execution_count": 7,
   "metadata": {},
   "outputs": [
    {
     "data": {
      "text/plain": [
       "array([[1., 0., 0., 0.],\n",
       "       [1., 1., 0., 0.],\n",
       "       [1., 1., 1., 0.],\n",
       "       [1., 1., 1., 1.]])"
      ]
     },
     "execution_count": 7,
     "metadata": {},
     "output_type": "execute_result"
    }
   ],
   "source": [
    "mask = np.tril(np.ones( (L, L) )) # triangular matrix\n",
    "mask"
   ]
  },
  {
   "cell_type": "code",
   "execution_count": 8,
   "metadata": {},
   "outputs": [
    {
     "data": {
      "text/plain": [
       "array([[  0., -inf, -inf, -inf],\n",
       "       [  0.,   0., -inf, -inf],\n",
       "       [  0.,   0.,   0., -inf],\n",
       "       [  0.,   0.,   0.,   0.]])"
      ]
     },
     "execution_count": 8,
     "metadata": {},
     "output_type": "execute_result"
    }
   ],
   "source": [
    "mask[mask==0] = -np.infty\n",
    "mask[mask==1] = 0\n",
    "mask"
   ]
  },
  {
   "cell_type": "code",
   "execution_count": 9,
   "metadata": {},
   "outputs": [
    {
     "data": {
      "text/plain": [
       "array([[ 0.26273996,        -inf,        -inf,        -inf],\n",
       "       [ 0.27779693, -1.3502591 ,        -inf,        -inf],\n",
       "       [ 0.00984046,  0.32123424,  0.06883584,        -inf],\n",
       "       [-0.12032177,  1.58142634,  0.460444  , -0.5261184 ]])"
      ]
     },
     "execution_count": 9,
     "metadata": {},
     "output_type": "execute_result"
    }
   ],
   "source": [
    "scaled + mask"
   ]
  },
  {
   "cell_type": "code",
   "execution_count": 10,
   "metadata": {},
   "outputs": [],
   "source": [
    "# softmask, convert a vector into a probability distribution\n",
    "def softmax(x): \n",
    "    return (np.exp(x).T / np.sum(np.exp(x), axis=1)).T\n",
    "attention = softmax(scaled + mask)"
   ]
  },
  {
   "cell_type": "code",
   "execution_count": 11,
   "metadata": {},
   "outputs": [
    {
     "data": {
      "text/plain": [
       "array([[1.        , 0.        , 0.        , 0.        ],\n",
       "       [0.83590316, 0.16409684, 0.        , 0.        ],\n",
       "       [0.29187731, 0.3985079 , 0.30961479, 0.        ],\n",
       "       [0.11188965, 0.61354967, 0.1999923 , 0.07456837]])"
      ]
     },
     "execution_count": 11,
     "metadata": {},
     "output_type": "execute_result"
    }
   ],
   "source": [
    "attention"
   ]
  },
  {
   "cell_type": "code",
   "execution_count": 12,
   "metadata": {},
   "outputs": [
    {
     "data": {
      "text/plain": [
       "array([[ 0.96138538,  0.22132426, -0.23674417,  0.29412005,  0.49256353,\n",
       "        -0.6933207 , -1.83949971,  0.58269026],\n",
       "       [ 0.87974592,  0.27558013, -0.13358034,  0.16255466,  0.27883251,\n",
       "        -0.50612343, -1.40380444,  0.36205897],\n",
       "       [ 0.79600866,  0.53947092,  0.07116715, -0.02549685, -0.02260406,\n",
       "        -0.51230443,  0.24372959,  0.23434001],\n",
       "       [ 0.51597246,  0.64515786,  0.15080117, -0.18831373, -0.21514052,\n",
       "        -0.17118111,  0.46482014, -0.27190926]])"
      ]
     },
     "execution_count": 12,
     "metadata": {},
     "output_type": "execute_result"
    }
   ],
   "source": [
    "new_v = np.matmul(attention, v)\n",
    "new_v\n",
    "# this new matricies better encapsulates the context of the masked words"
   ]
  },
  {
   "cell_type": "code",
   "execution_count": 13,
   "metadata": {},
   "outputs": [
    {
     "name": "stdout",
     "output_type": "stream",
     "text": [
      "New V\n",
      " [[ 0.19163855  0.87287014 -0.18504568  0.1390592   0.55102905 -0.64106133\n",
      "  -0.31220246 -0.22374355]\n",
      " [ 0.17825615  0.84443695 -0.32144608  0.2809344   0.82301804 -0.79170901\n",
      "  -0.92112393 -0.11179227]\n",
      " [-0.28130066  1.09487197 -0.34943714  0.21578155  0.89760055 -0.61749764\n",
      "  -0.7842327  -0.66736491]\n",
      " [ 0.51597246  0.64515786  0.15080117 -0.18831373 -0.21514052 -0.17118111\n",
      "   0.46482014 -0.27190926]]\n",
      "Attention\n",
      " [[1.         0.         0.         0.        ]\n",
      " [0.83590316 0.16409684 0.         0.        ]\n",
      " [0.29187731 0.3985079  0.30961479 0.        ]\n",
      " [0.11188965 0.61354967 0.1999923  0.07456837]]\n"
     ]
    }
   ],
   "source": [
    "# MASK is set to true when we are decoding\n",
    "def scaled_dot_product_attention(q, k, v, mask=None):\n",
    "    d_k = q.shape[-1]\n",
    "    scaled = np.matmul(q, k.T) / math.sqrt(d_k)\n",
    "    if mask is not None:\n",
    "        scaled = scaled + mask\n",
    "    attention = softmax(scaled)\n",
    "    out = np.matmul(attention, v) # vector\n",
    "    return out, attention\n",
    "\n",
    "\"\"\"print(\"Q\\n\", q) # queue\n",
    "print(\"K\\n\", k) # key\n",
    "print(\"V\\n\", v) # value\"\"\"\n",
    "#apply scaled product def\n",
    "values, attnetion = scaled_dot_product_attention(q, k, v, mask=None)\n",
    "print(\"New V\\n\", values)\n",
    "print(\"Attention\\n\", attention)"
   ]
  },
  {
   "cell_type": "code",
   "execution_count": 14,
   "metadata": {},
   "outputs": [],
   "source": [
    "import torch \n",
    "import torch.nn as nn  \n",
    "import torch.nn.functional as F"
   ]
  },
  {
   "cell_type": "code",
   "execution_count": 15,
   "metadata": {},
   "outputs": [],
   "source": [
    "sequence_length = 4 # my name is ken\n",
    "batch_size = 1\n",
    "input_dim = 512\n",
    "d_model = 512\n",
    "x = torch.randn( (batch_size, sequence_length, input_dim) )"
   ]
  },
  {
   "cell_type": "code",
   "execution_count": 16,
   "metadata": {},
   "outputs": [
    {
     "data": {
      "text/plain": [
       "torch.Size([1, 4, 1536])"
      ]
     },
     "execution_count": 16,
     "metadata": {},
     "output_type": "execute_result"
    }
   ],
   "source": [
    "x.size()\n",
    "qkv_layer = nn.Linear(input_dim, 3 * d_model)\n",
    "qkv = qkv_layer(x)\n",
    "qkv.shape"
   ]
  },
  {
   "cell_type": "code",
   "execution_count": 17,
   "metadata": {},
   "outputs": [
    {
     "data": {
      "image/png": "[encoded data removed]",
      "text/plain": [
       "<Figure size 640x480 with 1 Axes>"
      ]
     },
     "metadata": {},
     "output_type": "display_data"
    }
   ],
   "source": [
    "import matplotlib.pyplot as plt\n",
    "y_val = torch.histc(qkv, bins=200, min=-3, max=3)\n",
    "x_val = np.arange(-1, 1, 0.01) * 3\n",
    "plt.bar(x_val, y_val, align=\"center\", color=[\"forestgreen\"])\n",
    "plt.title(\"qkv distribution\")\n",
    "plt.grid(True)"
   ]
  },
  {
   "cell_type": "markdown",
   "metadata": {},
   "source": [
    "Sampling from a random normal distribution. "
   ]
  },
  {
   "cell_type": "code",
   "execution_count": 18,
   "metadata": {},
   "outputs": [
    {
     "data": {
      "text/plain": [
       "torch.Size([1, 8, 4, 192])"
      ]
     },
     "execution_count": 18,
     "metadata": {},
     "output_type": "execute_result"
    }
   ],
   "source": [
    "num_heads = 8\n",
    "head_dim = d_model // num_heads\n",
    "qkv = qkv.reshape(batch_size, sequence_length, num_heads, 3 * head_dim)\n",
    "qkv.shape\n",
    "\n",
    "qkv = qkv.permute(0, 2, 1, 3)\n",
    "qkv.shape"
   ]
  },
  {
   "cell_type": "code",
   "execution_count": 19,
   "metadata": {},
   "outputs": [
    {
     "data": {
      "text/plain": [
       "(torch.Size([1, 8, 4, 64]),\n",
       " torch.Size([1, 8, 4, 64]),\n",
       " torch.Size([1, 8, 4, 64]))"
      ]
     },
     "execution_count": 19,
     "metadata": {},
     "output_type": "execute_result"
    }
   ],
   "source": [
    "q, k, v = qkv.chunk(3, dim=-1)\n",
    "q.shape, k.shape, v.shape"
   ]
  },
  {
   "cell_type": "code",
   "execution_count": 20,
   "metadata": {},
   "outputs": [
    {
     "data": {
      "text/plain": [
       "torch.Size([1, 8, 4, 4])"
      ]
     },
     "execution_count": 20,
     "metadata": {},
     "output_type": "execute_result"
    }
   ],
   "source": [
    "d_k = q.size()[-1]\n",
    "# -2 == last two attrs/dimensions\n",
    "scaled = torch.matmul(q, k.transpose(-2, -1)) / math.sqrt(d_k)\n",
    "scaled.shape"
   ]
  },
  {
   "cell_type": "code",
   "execution_count": 21,
   "metadata": {},
   "outputs": [
    {
     "name": "stderr",
     "output_type": "stream",
     "text": [
      "/var/folders/g4/ykwfgyl55t7dfzv_zc3dcshh0000gn/T/ipykernel_1292/4066560417.py:1: UserWarning: The use of `x.T` on tensors of dimension other than 2 to reverse their shape is deprecated and it will throw an error in a future release. Consider `x.mT` to transpose batches of matrices or `x.permute(*torch.arange(x.ndim - 1, -1, -1))` to reverse the dimensions of a tensor. (Triggered internally at /Users/runner/work/pytorch/pytorch/pytorch/aten/src/ATen/native/TensorShape.cpp:3641.)\n",
      "  k.T.shape\n"
     ]
    },
    {
     "data": {
      "text/plain": [
       "tensor([[0., -inf, -inf, -inf],\n",
       "        [0., 0., -inf, -inf],\n",
       "        [0., 0., 0., -inf],\n",
       "        [0., 0., 0., 0.]])"
      ]
     },
     "execution_count": 21,
     "metadata": {},
     "output_type": "execute_result"
    }
   ],
   "source": [
    "k.T.shape\n",
    "mask = torch.full(scaled.size(), float('-inf'))\n",
    "mask = torch.triu(mask, diagonal=1)\n",
    "mask[0][1]"
   ]
  },
  {
   "cell_type": "code",
   "execution_count": 22,
   "metadata": {},
   "outputs": [
    {
     "data": {
      "text/plain": [
       "tensor([[-0.2979,    -inf,    -inf,    -inf],\n",
       "        [ 0.0806, -0.0394,    -inf,    -inf],\n",
       "        [ 0.4009, -0.0070,  0.4119,    -inf],\n",
       "        [-0.4489, -0.1323,  0.0221, -0.0980]], grad_fn=<SelectBackward0>)"
      ]
     },
     "execution_count": 22,
     "metadata": {},
     "output_type": "execute_result"
    }
   ],
   "source": [
    "(scaled + mask)[0][0]"
   ]
  },
  {
   "cell_type": "code",
   "execution_count": 23,
   "metadata": {},
   "outputs": [],
   "source": [
    "scaled += mask"
   ]
  },
  {
   "cell_type": "code",
   "execution_count": 24,
   "metadata": {},
   "outputs": [
    {
     "data": {
      "text/plain": [
       "tensor([[1.0000, 0.0000, 0.0000, 0.0000],\n",
       "        [0.5300, 0.4700, 0.0000, 0.0000],\n",
       "        [0.3737, 0.2485, 0.3778, 0.0000],\n",
       "        [0.1854, 0.2544, 0.2969, 0.2633]], grad_fn=<SelectBackward0>)"
      ]
     },
     "execution_count": 24,
     "metadata": {},
     "output_type": "execute_result"
    }
   ],
   "source": [
    "attention = F.softmax(scaled, dim=-1)\n",
    "attention.shape\n",
    "attention[0][0]"
   ]
  },
  {
   "cell_type": "code",
   "execution_count": 25,
   "metadata": {},
   "outputs": [
    {
     "data": {
      "text/plain": [
       "torch.Size([1, 8, 4, 64])"
      ]
     },
     "execution_count": 25,
     "metadata": {},
     "output_type": "execute_result"
    }
   ],
   "source": [
    "values = torch.matmul(attention, v)\n",
    "values.shape #much more context aware"
   ]
  },
  {
   "cell_type": "code",
   "execution_count": 26,
   "metadata": {},
   "outputs": [],
   "source": [
    "# updated function\n",
    "def scaled_dot_product(q, k, v, mask=None):\n",
    "    d_k = q.size()[-1]\n",
    "    scaled = torch.matmul(q, k.transpose(-1, -2) / math.sqrt(d_k))\n",
    "    if mask is not None:\n",
    "        scaled += mask\n",
    "    attention = F.softmax(scaled, dim=-1)\n",
    "    values = torch.matmul(attention, v)\n",
    "    return values, attention"
   ]
  },
  {
   "cell_type": "code",
   "execution_count": 27,
   "metadata": {},
   "outputs": [],
   "source": [
    "values, attention = scaled_dot_product(q, k, v, mask=None)"
   ]
  },
  {
   "cell_type": "code",
   "execution_count": 29,
   "metadata": {},
   "outputs": [
    {
     "data": {
      "text/plain": [
       "(torch.Size([1, 8, 4, 4]), torch.Size([1, 8, 4, 64]))"
      ]
     },
     "execution_count": 29,
     "metadata": {},
     "output_type": "execute_result"
    }
   ],
   "source": [
    "attention.shape, values.shape"
   ]
  },
  {
   "cell_type": "code",
   "execution_count": 30,
   "metadata": {},
   "outputs": [
    {
     "data": {
      "text/plain": [
       "tensor([[0.2350, 0.2686, 0.1471, 0.3492],\n",
       "        [0.2718, 0.2411, 0.1734, 0.3137],\n",
       "        [0.2936, 0.1952, 0.2968, 0.2144],\n",
       "        [0.1854, 0.2544, 0.2969, 0.2633]], grad_fn=<SelectBackward0>)"
      ]
     },
     "execution_count": 30,
     "metadata": {},
     "output_type": "execute_result"
    }
   ],
   "source": [
    "attention[0][0]"
   ]
  },
  {
   "cell_type": "code",
   "execution_count": 31,
   "metadata": {},
   "outputs": [
    {
     "data": {
      "text/plain": [
       "torch.Size([1, 8, 4, 64])"
      ]
     },
     "execution_count": 31,
     "metadata": {},
     "output_type": "execute_result"
    }
   ],
   "source": [
    "values.size()"
   ]
  },
  {
   "cell_type": "code",
   "execution_count": 32,
   "metadata": {},
   "outputs": [
    {
     "data": {
      "text/plain": [
       "torch.Size([1, 4, 512])"
      ]
     },
     "execution_count": 32,
     "metadata": {},
     "output_type": "execute_result"
    }
   ],
   "source": [
    "values = values.reshape(batch_size, sequence_length, num_heads * head_dim)\n",
    "values.size()"
   ]
  },
  {
   "cell_type": "code",
   "execution_count": 33,
   "metadata": {},
   "outputs": [
    {
     "data": {
      "text/plain": [
       "(torch.Size([1, 4, 512]),\n",
       " tensor([[[ 0.1173, -0.1710,  0.0064,  ..., -0.1207,  0.3013,  0.1639],\n",
       "          [ 0.0469,  0.0930,  0.0426,  ..., -0.2752, -0.1506,  0.0289],\n",
       "          [ 0.1419, -0.0419, -0.0672,  ..., -0.1362,  0.0857,  0.1898],\n",
       "          [ 0.0183,  0.0776, -0.0284,  ..., -0.2607,  0.1579, -0.0055]]],\n",
       "        grad_fn=<ViewBackward0>))"
      ]
     },
     "execution_count": 33,
     "metadata": {},
     "output_type": "execute_result"
    }
   ],
   "source": [
    "linear_layer = nn.Linear(d_model, d_model)\n",
    "out = linear_layer(values)\n",
    "out.shape, out"
   ]
  },
  {
   "cell_type": "code",
   "execution_count": 36,
   "metadata": {},
   "outputs": [],
   "source": [
    "class MultiHeadAttention(nn.Module):\n",
    "    def __init__(self, input_dim, d_model, num_heads):\n",
    "        super().__init__()\n",
    "        self.input_dim = input_dim\n",
    "        self.d_model = d_model\n",
    "        self.num_heads = num_heads\n",
    "        self.head_dim = d_model // num_heads\n",
    "        self.qkv_layer = nn.Linear(input_dim, 3 * d_model)\n",
    "        self.linear_layer = nn.Linear(d_model, d_model)\n",
    "    \n",
    "    def forward(self, x, mask=None):\n",
    "        batch_size, sequence_length, input_dim = x.size()\n",
    "        print(f\"x.size(): {x.size()}\")\n",
    "        qkv = self.qkv_layer(x)\n",
    "        print(f\"qkv.size(): {qkv.size()}\")\n",
    "        qkv = qkv.reshape(batch_size, sequence_length, self.num_heads, 3 * self.head_dim)\n",
    "        print(f\"qkv.size(): {qkv.size()}\")\n",
    "        qkv = qkv.permute(0, 2, 1, 3)\n",
    "        print(f\"qkv.size(): {qkv.size()}\")\n",
    "        q, k, v = qkv.chunk(3, dim=-1)\n",
    "        print(f\"q size: {q.size()}, k size: {k.size()}, v size: {v.size()}\")\n",
    "        values, attention = scaled_dot_product(q, k, v, mask)\n",
    "        print(f\"value.size(): {values.size()}, attention.size(): {attention.size()}\")\n",
    "        values = values.reshape(batch_size, sequence_length, self.num_heads * self.head_dim)\n",
    "        print(f\"values.size(): {values.size()}\")\n",
    "        out = self.linear_layer(values)\n",
    "        print(f\"out.size(): {out.size()}\")\n",
    "        return out # eof"
   ]
  },
  {
   "cell_type": "code",
   "execution_count": 38,
   "metadata": {},
   "outputs": [
    {
     "name": "stdout",
     "output_type": "stream",
     "text": [
      "x.size(): torch.Size([30, 5, 1024])\n",
      "qkv.size(): torch.Size([30, 5, 1536])\n",
      "qkv.size(): torch.Size([30, 5, 8, 192])\n",
      "qkv.size(): torch.Size([30, 8, 5, 192])\n",
      "q size: torch.Size([30, 8, 5, 64]), k size: torch.Size([30, 8, 5, 64]), v size: torch.Size([30, 8, 5, 64])\n",
      "value.size(): torch.Size([30, 8, 5, 64]), attention.size(): torch.Size([30, 8, 5, 5])\n",
      "values.size(): torch.Size([30, 5, 512])\n",
      "out.size(): torch.Size([30, 5, 512])\n"
     ]
    }
   ],
   "source": [
    "input_dim = 1024\n",
    "d_model = 512\n",
    "num_heads = 8\n",
    "\n",
    "batch_size = 30\n",
    "sequence_length = 5\n",
    "x = torch.randn( (batch_size, sequence_length, input_dim))\n",
    "\n",
    "model = MultiHeadAttention(input_dim, d_model, num_heads)\n",
    "out = model.forward(x)"
   ]
  }
 ],
 "metadata": {
  "kernelspec": {
   "display_name": "Python 3",
   "language": "python",
   "name": "python3"
  },
  "language_info": {
   "codemirror_mode": {
    "name": "ipython",
    "version": 3
   },
   "file_extension": ".py",
   "mimetype": "text/x-python",
   "name": "python",
   "nbconvert_exporter": "python",
   "pygments_lexer": "ipython3",
   "version": "3.11.5"
  }
 },
 "nbformat": 4,
 "nbformat_minor": 2
}
